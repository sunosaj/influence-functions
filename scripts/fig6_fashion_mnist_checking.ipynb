{
 "cells": [
  {
   "cell_type": "code",
   "execution_count": null,
   "metadata": {
    "collapsed": true
   },
   "outputs": [],
   "source": [
    "%matplotlib inline\n",
    "%load_ext autoreload\n",
    "%autoreload 2\n",
    "\n",
    "from __future__ import division\n",
    "from __future__ import print_function\n",
    "from __future__ import absolute_import\n",
    "from __future__ import unicode_literals  \n",
    "\n",
    "import numpy as np\n",
    "import pandas as pd\n",
    "import seaborn as sns\n",
    "import matplotlib.pyplot as plt\n",
    "\n",
    "sns.set(color_codes=True)\n",
    "\n",
    "np.random.seed(42)"
   ]
  },
  {
   "cell_type": "code",
   "execution_count": null,
   "outputs": [],
   "source": [
    "f = np.load('../output/randomly_mislabel_fashion_mnist_results.npz')\n",
    "orig_results = f['orig_results']\n",
    "flipped_results = f['flipped_results']\n",
    "fixed_influence_loo_results = f['fixed_influence_loo_results']\n",
    "fixed_loss_results = f['fixed_loss_results']\n",
    "fixed_random_results = f['fixed_random_results']"
   ],
   "metadata": {
    "collapsed": false,
    "pycharm": {
     "name": "#%%\n"
    }
   }
  },
  {
   "cell_type": "code",
   "execution_count": null,
   "outputs": [],
   "source": [
    "sns.set_style('white')\n",
    "fontsize=14\n",
    "\n",
    "x = np.arange(0, 0.35, 0.05)\n",
    "metric_idx = 0\n",
    "\n",
    "flip_mean = np.mean(flipped_results, axis=1)\n",
    "flip_error = np.std(flipped_results, axis=1) / np.sqrt(flipped_results.shape[1])\n",
    "\n",
    "fig, axs = plt.subplots(1, 2, figsize=(7,3.5))\n",
    "\n",
    "flip_idx = 1\n",
    "print(\"Fraction of flips: %s\" % ((flip_idx + 1) * 0.05))\n",
    "num_train_examples = 4137\n",
    "num_flips = int(num_train_examples / 20) * (flip_idx + 1)  \n",
    "\n",
    "for ax, metric_idx in zip(axs, [2, 0]):\n",
    "    for results, label in [\n",
    "        (fixed_influence_loo_results, 'Influence'),\n",
    "        (fixed_loss_results, 'Loss'), \n",
    "        (fixed_random_results, 'Random')]:\n",
    "        mean = np.mean(results, axis=2)[flip_idx, :, metric_idx]\n",
    "        error = np.std(results, axis=2)[flip_idx, :, metric_idx] / np.sqrt(results.shape[2])\n",
    "        mean = np.insert(mean, 0, flip_mean[flip_idx, metric_idx]) \n",
    "        error = np.insert(error, 0, flip_error[flip_idx, metric_idx])\n",
    "\n",
    "        if metric_idx == 0:\n",
    "            mean /= num_flips\n",
    "            error /= num_flips\n",
    "            \n",
    "        ax.errorbar(\n",
    "            x, \n",
    "            mean,\n",
    "            error,\n",
    "            label=label)\n",
    "        ax.set_xlim((0, 0.30))\n",
    "        ax.set_xticks(x)\n",
    "        ax.set_xlabel('Fraction of train data checked', fontsize=fontsize)\n",
    "\n",
    "    if metric_idx > 0:\n",
    "        ax.plot(\n",
    "            x, \n",
    "            [orig_results[metric_idx - 1]] * len(x),\n",
    "            '--',\n",
    "            color='k',\n",
    "            label='Clean data')\n",
    "        ax.legend(loc=(0.52,0.30), fontsize=fontsize-3)          \n",
    "        ax.set_ylim((0.885, 0.98))\n",
    "        ax.set_ylabel('Test accuracy', fontsize=fontsize)\n",
    "\n",
    "    else:\n",
    "        ax.set_ylim((0, 1))\n",
    "      \n",
    "        ax.set_ylabel('Fraction of flips fixed', fontsize=fontsize)\n",
    "\n",
    "plt.tight_layout()\n",
    "plt.subplots_adjust(wspace=0.28)\n",
    "\n",
    "# plt.savefig('../figs/fig-spam.png', dpi=600, bbox_inches='tight')#%%\n"
   ],
   "metadata": {
    "collapsed": false,
    "pycharm": {
     "name": "#%%\n"
    }
   }
  }
 ],
 "metadata": {
  "language_info": {
   "codemirror_mode": {
    "name": "ipython",
    "version": 2
   },
   "file_extension": ".py",
   "mimetype": "text/x-python",
   "name": "python",
   "nbconvert_exporter": "python",
   "pygments_lexer": "ipython2",
   "version": "2.7.6"
  },
  "kernelspec": {
   "name": "python2",
   "language": "python",
   "display_name": "Python 2"
  },
  "pycharm": {
   "stem_cell": {
    "cell_type": "raw",
    "source": [],
    "metadata": {
     "collapsed": false
    }
   }
  }
 },
 "nbformat": 4,
 "nbformat_minor": 0
}