{
 "cells": [
  {
   "cell_type": "code",
   "execution_count": 73,
   "metadata": {
    "pycharm": {
     "is_executing": false,
     "name": "#%%\n"
    }
   },
   "outputs": [
    {
     "name": "stdout",
     "output_type": "stream",
     "text": [
      "The autoreload extension is already loaded. To reload it, use:\n",
      "  %reload_ext autoreload\n"
     ]
    }
   ],
   "source": [
    "%matplotlib inline\n",
    "%load_ext autoreload\n",
    "%autoreload 2\n",
    "\n",
    "from __future__ import division\n",
    "from __future__ import print_function\n",
    "from __future__ import absolute_import\n",
    "from __future__ import unicode_literals  \n",
    "\n",
    "import numpy as np\n",
    "import pandas as pd\n",
    "import matplotlib.pyplot as plt\n",
    "import seaborn as sns\n",
    "from scipy.stats import pearsonr\n",
    "\n",
    "import IPython\n",
    "\n",
    "sns.set(color_codes=True)"
   ]
  },
  {
   "cell_type": "code",
   "execution_count": 78,
   "metadata": {
    "pycharm": {
     "is_executing": false
    }
   },
   "outputs": [],
   "source": [
    "# f = np.load('../mnist_logreg_lbfgs_retraining-500.npz')\n",
    "# If running outside of Codalab, change this to\n",
    "f = np.load('output/diabetes_logreg_lbfgs_retraining-500.npz')\n",
    "\n",
    "actual_loss_diffs = f['actual_loss_diffs']\n",
    "predicted_loss_diffs_cg = f['predicted_loss_diffs_cg']\n",
    "predicted_loss_diffs_lissa = f['predicted_loss_diffs_lissa']\n",
    "indices_to_remove = f['indices_to_remove']"
   ]
  },
  {
   "cell_type": "code",
   "execution_count": 75,
   "metadata": {
    "pycharm": {
     "is_executing": false
    }
   },
   "outputs": [],
   "source": [
    "# # f = np.load('../mnist_small_all_cnn_c_iter-500k_retraining-100.npz')\n",
    "# # If running outside of Codalab, change this to\n",
    "# f = np.load('output/mnist_small_all_cnn_c_iter-500k_retraining-100.npz')\n",
    "# \n",
    "# nn_actual_loss_diffs = f['actual_loss_diffs']\n",
    "# nn_predicted_loss_diffs = f['predicted_loss_diffs']\n",
    "# nn_indices_to_remove = f['indices_to_remove']\n",
    "\n",
    "# print(pearsonr(nn_actual_loss_diffs[-100:], nn_predicted_loss_diffs[-100:])[0])"
   ]
  },
  {
   "cell_type": "code",
   "execution_count": 79,
   "metadata": {
    "pycharm": {
     "is_executing": false
    }
   },
   "outputs": [
    {
     "data": {
      "image/png": "[encoded data removed]",
      "text/plain": "<Figure size 432x216 with 2 Axes>"
     },
     "metadata": {},
     "output_type": "display_data"
    }
   ],
   "source": [
    "sns.set_style('white')\n",
    "fontsize=16\n",
    "fig, axs = plt.subplots(1, 2, sharex=True, sharey=True, figsize=(6, 3))\n",
    "\n",
    "for ax in axs: \n",
    "    ax.set_aspect('equal')\n",
    "    ax.set_xlabel('Actual diff in loss', fontsize=fontsize)\n",
    "    ax.set_xticks(np.arange(-0.02, 0.02, 0.01))\n",
    "    ax.set_yticks(np.arange(-0.02, 0.02, 0.01))\n",
    "    ax.set_xlim([-0.02, 0.02])\n",
    "    ax.set_ylim([-0.02, 0.02])\n",
    "    ax.plot([-0.05, 0.05], [-0.05, 0.05], 'k-', alpha=0.2, zorder=1)\n",
    "axs[0].set_ylabel('Predicted diff in loss', fontsize=fontsize)\n",
    "\n",
    "axs[0].scatter(actual_loss_diffs, predicted_loss_diffs_cg, zorder=2)\n",
    "axs[0].set_title('Linear (exact)', fontsize=fontsize)\n",
    "axs[1].scatter(actual_loss_diffs, predicted_loss_diffs_lissa, zorder=2)\n",
    "axs[1].set_title('Linear (approx)', fontsize=fontsize)\n",
    "# axs[2].scatter(nn_actual_loss_diffs, nn_predicted_loss_diffs, zorder=2)\n",
    "# axs[2].set_title('CNN', fontsize=fontsize)\n",
    "\n",
    "plt.savefig('../figs/fig-approx-diabetes.png', dpi=600, bbox_inches='tight')"
   ]
  },
  {
   "cell_type": "code",
   "execution_count": null,
   "metadata": {
    "collapsed": true
   },
   "outputs": [],
   "source": []
  }
 ],
 "metadata": {
  "kernelspec": {
   "display_name": "Python 2",
   "language": "python",
   "name": "python2"
  },
  "language_info": {
   "codemirror_mode": {
    "name": "ipython",
    "version": 2
   },
   "file_extension": ".py",
   "mimetype": "text/x-python",
   "name": "python",
   "nbconvert_exporter": "python",
   "pygments_lexer": "ipython2",
   "version": "2.7.16"
  },
  "pycharm": {
   "stem_cell": {
    "cell_type": "raw",
    "source": [],
    "metadata": {
     "collapsed": false
    }
   }
  }
 },
 "nbformat": 4,
 "nbformat_minor": 1
}